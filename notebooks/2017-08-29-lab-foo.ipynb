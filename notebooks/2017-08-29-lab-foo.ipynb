{
 "cells": [
  {
   "cell_type": "markdown",
   "metadata": {},
   "source": [
    "# Nome do projeto\n",
    "### Propósito do notebook\n",
    "\n",
    "<sub>Uirá Caiado. DIA de MÊS, ANO<sub>\n",
    "\n",
    "#### Resumo\n",
    "\n",
    "\n",
    "_Neste notebook vou realizar uma primeira tentativa de padronizar a maneira como documento meus progressos. Hoje não tenho uma única maneira de fazer isso, o que dificilta em recuperar o que já foi feito anteriormente, a não ser que tenha escrito um relatório completo a respeito. Como nem sempre faço isso, quero desenvolver um jeito mais leve, e potencialmente mais útil, de criar estes registros._"
   ]
  },
  {
   "cell_type": "markdown",
   "metadata": {},
   "source": [
    "## 1. Introdução\n",
    "\n",
    "Neste seção vou explicar o intuíto deste notebook e listar as análises contidas aqui.\n",
    "\n",
    "### 1.1. Background\n",
    "\n",
    "Uma coisa que costumo mudar com frequência é como eu organizo e documento os resultados dos testes que vou fazendo. Isto é bom por um lado, pois estou sempre aprimorando as coisa. Mas por outro é ruim, porque a estrutura dos meu estudos fica mudando frequentemente. Como já tenho os processos mais maduros atualmente, quero estabelecer um jeito padrão de realizar minhas pesquisas e este notebook é uma primeira tentativa neste sentido. Inicialmente, acho bom expor o que estou usando nos códigos para reprodutibilidade dos experimentos.\n",
    "\n",
    "Atualmente há dois tipos de notebooks que faço: Um onde comunico os resultados finais para o Felipe ou para eu mesmo no futuro. Este costuma ser mais organizado, com início meio e fim bem definidos. Porém, é bastante trabalhoso de escrever e nem sempre faço ele, principalmente quando o estudo é inconclusivo. O segundo, é onde testo os códigos, exploro os dados, entre outras coisas. Costuma ser bem mais desestruturado, ainda que eu tente manter alguma organização.\n",
    "\n",
    "Algo que fiz um tempo atrás para desenvolver a estratégia de mini-índice foi tentar algo mais \"método científico\". Fiquei satisfeito com o resultado. Isso porque meu progresso ficou documentado e eu pude ir relendo e planejando meus próximos experimentos e observações baseado nas minhas notas. Na época fiz a mão, até para ser econômico nas palavras. Agora, gostaria de desenvolver mais isso e documentar para usar futuramente.\n",
    "\n",
    "### 1.2. O que foi feito\n",
    "\n",
    "Uma dica interessante que li na [internet](https://github.com/jbwhit/OSCON-2015/blob/master/develop/2015-07-24-jw-coal-productivity.ipynb) foi imprimir a versão das bibliotecas que estou usando logo de cara. Então, preciso instalar o \"version\\_information\". Assim, para reproduzir este notebook, preciso das seguintes bibliotecas."
   ]
  },
  {
   "cell_type": "code",
   "execution_count": 1,
   "metadata": {},
   "outputs": [
    {
     "data": {
      "application/json": {
       "Software versions": [
        {
         "module": "Python",
         "version": "2.7.13 64bit [GCC 4.4.7 20120313 (Red Hat 4.4.7-1)]"
        },
        {
         "module": "IPython",
         "version": "5.3.0"
        },
        {
         "module": "OS",
         "version": "Linux 4.1.39 56 default x86_64 with SuSE 42.1 x86_64"
        },
        {
         "module": "numpy",
         "version": "1.12.1"
        },
        {
         "module": "scipy",
         "version": "0.19.1"
        },
        {
         "module": "matplotlib",
         "version": "2.0.2"
        },
        {
         "module": "pandas",
         "version": "0.20.2"
        }
       ]
      },
      "text/html": [
       "<table><tr><th>Software</th><th>Version</th></tr><tr><td>Python</td><td>2.7.13 64bit [GCC 4.4.7 20120313 (Red Hat 4.4.7-1)]</td></tr><tr><td>IPython</td><td>5.3.0</td></tr><tr><td>OS</td><td>Linux 4.1.39 56 default x86_64 with SuSE 42.1 x86_64</td></tr><tr><td>numpy</td><td>1.12.1</td></tr><tr><td>scipy</td><td>0.19.1</td></tr><tr><td>matplotlib</td><td>2.0.2</td></tr><tr><td>pandas</td><td>0.20.2</td></tr><tr><td colspan='2'>Tue Aug 29 18:03:51 2017 -03</td></tr></table>"
      ],
      "text/latex": [
       "\\begin{tabular}{|l|l|}\\hline\n",
       "{\\bf Software} & {\\bf Version} \\\\ \\hline\\hline\n",
       "Python & 2.7.13 64bit [GCC 4.4.7 20120313 (Red Hat 4.4.7-1)] \\\\ \\hline\n",
       "IPython & 5.3.0 \\\\ \\hline\n",
       "OS & Linux 4.1.39 56 default x86\\_64 with SuSE 42.1 x86\\_64 \\\\ \\hline\n",
       "numpy & 1.12.1 \\\\ \\hline\n",
       "scipy & 0.19.1 \\\\ \\hline\n",
       "matplotlib & 2.0.2 \\\\ \\hline\n",
       "pandas & 0.20.2 \\\\ \\hline\n",
       "\\hline \\multicolumn{2}{|l|}{Tue Aug 29 18:03:51 2017 -03} \\\\ \\hline\n",
       "\\end{tabular}\n"
      ],
      "text/plain": [
       "Software versions\n",
       "Python 2.7.13 64bit [GCC 4.4.7 20120313 (Red Hat 4.4.7-1)]\n",
       "IPython 5.3.0\n",
       "OS Linux 4.1.39 56 default x86_64 with SuSE 42.1 x86_64\n",
       "numpy 1.12.1\n",
       "scipy 0.19.1\n",
       "matplotlib 2.0.2\n",
       "pandas 0.20.2\n",
       "Tue Aug 29 18:03:51 2017 -03"
      ]
     },
     "execution_count": 1,
     "metadata": {},
     "output_type": "execute_result"
    }
   ],
   "source": [
    "%load_ext version_information\n",
    "%version_information numpy, scipy, matplotlib, pandas"
   ]
  },
  {
   "cell_type": "markdown",
   "metadata": {},
   "source": [
    "Em seguida, preciso carregar as bibliotecas que serão usadas ao longo deste notebook"
   ]
  },
  {
   "cell_type": "code",
   "execution_count": 2,
   "metadata": {},
   "outputs": [
    {
     "data": {
      "text/html": [
       "<style>\n",
       "    @font-face {\n",
       "        font-family: \"Computer Modern\";\n",
       "        src: url('/notebooks/style/cmunss.otf');\n",
       "    }\n",
       "    @font-face {\n",
       "        font-family: \"Computer Modern\";\n",
       "        font-weight: bold;\n",
       "        src: url('/notebooks/style/cmunsx.otf');\n",
       "    }\n",
       "    @font-face {\n",
       "        font-family: \"Computer Modern\";\n",
       "        font-style: oblique;\n",
       "        src: url('/notebooks/style/cmunsi.otf');\n",
       "    }\n",
       "    @font-face {\n",
       "        font-family: \"Computer Modern\";\n",
       "        font-weight: bold;\n",
       "        font-style: oblique;\n",
       "        src: url('/notebooks/style/cmunso.otf');\n",
       "    }\n",
       "\n",
       "    div.cell{\n",
       "        width:800px;\n",
       "        margin-left:16% !important;\n",
       "        margin-right:auto;\n",
       "    }\n",
       "    h1 {\n",
       "        font-family: Helvetica, serif;\n",
       "    }\n",
       "    h4{\n",
       "        margin-top:12px;\n",
       "        margin-bottom: 3px;\n",
       "       }\n",
       "    div.text_cell_render{\n",
       "        font-family: Computer Modern, \"Helvetica Neue\", Arial, Helvetica, Geneva, sans-serif;\n",
       "        line-height: 145%;\n",
       "        font-size: 130%;\n",
       "        width:800px;\n",
       "        margin-left:auto;\n",
       "        margin-right:auto;\n",
       "    }\n",
       "    .CodeMirror{\n",
       "            font-family: \"Source Code Pro\", source-code-pro,Consolas, monospace;\n",
       "    }\n",
       "    .prompt{\n",
       "        display: None;\n",
       "    }\n",
       "    .text_cell_render h5 {\n",
       "        font-weight: 300;\n",
       "        font-size: 22pt;\n",
       "        color: #4057A1;\n",
       "        font-style: italic;\n",
       "        margin-bottom: .5em;\n",
       "        margin-top: 0.5em;\n",
       "        display: block;\n",
       "    }\n",
       "\n",
       "    .warning{\n",
       "        color: rgb( 240, 20, 20 )\n",
       "        }\n",
       "</style>\n",
       "\n",
       "\n",
       "\n",
       "<style>\n",
       "    table {\n",
       "        overflow:hidden;\n",
       "        font-family: Computer Modern, \"Helvetica Neue\", Arial, Helvetica, Geneva, sans-serif;\n",
       "        font-size: 12px;\n",
       "        margin: 10px;\n",
       "        width: 480px;\n",
       "        text-align: left;\n",
       "        border-collapse: collapse;\n",
       "        border: 1px solid #d3d3d3;\n",
       "        -moz-border-radius:5px; FF1+;\n",
       "        -webkit-border-radius:5px; Saf3-4;\n",
       "        border-radius:5px;\n",
       "        -moz-box-shadow: 0 0 4px rgba(0, 0, 0, 0.01);\n",
       "    }\n",
       "    th\n",
       "    {\n",
       "        padding: 12px 17px 12px 17px;\n",
       "        font-weight: normal;\n",
       "        font-size: 14px;\n",
       "        border-bottom: 1px dashed #69c;\n",
       "    }\n",
       "\n",
       "    td\n",
       "    {\n",
       "        padding: 7px 17px 7px 17px;\n",
       "\n",
       "    }\n",
       "\n",
       "    tbody tr:hover th\n",
       "    {\n",
       "\n",
       "        background:  #E9E9E9;\n",
       "    }\n",
       "\n",
       "    tbody tr:hover td\n",
       "    {\n",
       "\n",
       "        background:  #E9E9E9;\n",
       "    }\n",
       "\n",
       "</style>\n",
       "\n",
       "<script>\n",
       "    MathJax.Hub.Config({\n",
       "                        TeX: {\n",
       "                           extensions: [\"AMSmath.js\"]\n",
       "                           },\n",
       "                tex2jax: {\n",
       "                    inlineMath: [ ['$','$'], [\"\\\\(\",\"\\\\)\"] ],\n",
       "                    displayMath: [ ['$$','$$'], [\"\\\\[\",\"\\\\]\"] ]\n",
       "                },\n",
       "                displayAlign: 'center', // Change this to 'center' to center equations.\n",
       "                \"HTML-CSS\": {\n",
       "                    styles: {'.MathJax_Display': {\"margin\": 4}}\n",
       "                }\n",
       "        });\n",
       "</script>\n"
      ],
      "text/plain": [
       "<IPython.core.display.HTML object>"
      ]
     },
     "execution_count": 2,
     "metadata": {},
     "output_type": "execute_result"
    }
   ],
   "source": [
    "import sys\n",
    "import os\n",
    "sys.path.append(\"../\")  # include the root directory as the main\n",
    "import market_gym.utils.eda\n",
    "import pandas as pd\n",
    "import numpy as np"
   ]
  },
  {
   "cell_type": "markdown",
   "metadata": {},
   "source": [
    "Finalmente, posso definir algumas variáveis globais para serem usadas ao longo das notas. Principalmente, preciso definir o path para as figuras que poderei salvar e manter controle de versão, se for o caso."
   ]
  },
  {
   "cell_type": "code",
   "execution_count": 3,
   "metadata": {
    "collapsed": true
   },
   "outputs": [],
   "source": [
    "# Define saida padrao para figuras que serao guardadas\n",
    "fig_prefix = 'figures/2017-08-29-'\n",
    "s_currentpath = os.getcwd()"
   ]
  },
  {
   "cell_type": "markdown",
   "metadata": {},
   "source": [
    "Finalmente, neste notebook há as seguintes análises:\n",
    "\n",
    "- Estrutura básica pelo método científico\n",
    "- Estrutura com códigos pelo método científico\n",
    "- Bla3\n",
    "\n"
   ]
  },
  {
   "cell_type": "markdown",
   "metadata": {},
   "source": [
    "\n",
    "## 2. Experimentos realizados sobre [tema dos testes]\n",
    "\n",
    "Nesta seção, vou listar os experimentos realizados neste notebook. Não tenho certeza se numéro eles, mas todos devem ter um título, sendo que este deve ser ligado ao tema do capítulo. Este título pode ser o que foi testado diretamente ou uma pergunta.\n",
    "\n",
    "<h3>2.1. Estrutura básica de experimento <small><span style=\"float: right;\">2017, 29 de Agosto</span></small></h3>\n",
    "\n",
    "__Objetivo:__ O que estou tentando fazer\n",
    "\n",
    "_UPDATE: 2017-08-29 18:28. Não tem problema mudar qualquer coisa aqui, desde que anote motivos. Essa que é a graça deste método. Antes: <strike>O que estou tentando fazer</strike>_\n",
    "\n",
    "---------------------\n",
    "__Método:__ Como vou fazer isso (Como decidi fazer/ medir isso e como vou usar essa medida p/ atingir objetivo). O que fiz (em detalhes). Aqui que incluo fórmula de modelos, medidas e etc.\n",
    "\n",
    "----------------------\n",
    "__Resultados:__ O que calculei baseado nos dados? quão bom são eles? O que deu ERRADO? O que deveria ter feito diferente. Documente eventos críticos para provar aderência ao objetivo (ou não).\n",
    "\n",
    "----------------------\n",
    "__Conclusão:__ Experimento atingiu objetivo? quão bem? quais os principais resultados? Interpretação de resultados\n",
    "\n",
    "----------------------\n",
    "__Notas e próximos passos:__ O que anotei durante o experimento. Idéias, pistas, e o que fazer em seguida.\n",
    "\n"
   ]
  },
  {
   "cell_type": "markdown",
   "metadata": {},
   "source": [
    "<h3>2.2. Estrutura básica de experimento <small><span style=\"float: right;\">2017, 29 de Agosto</span></small></h3>\n",
    "\n",
    "#### Objetivo:\n",
    "\n",
    "O que estou tentando fazer\n",
    "\n",
    "_UPDATE: 2017-08-29 18:28. Não tem problema mudar qualquer coisa aqui, desde que anote motivos. Essa que é a graça deste método. Antes: <strike>O que estou tentando fazer</strike>_\n",
    "\n",
    "---------------------\n",
    "#### Método:\n",
    "\n",
    "Como vou fazer isso (Como decidi fazer/ medir isso e como vou usar essa medida p/ atingir objetivo). O que fiz (em detalhes). Aqui que incluo fórmula de modelos, medidas e etc."
   ]
  },
  {
   "cell_type": "markdown",
   "metadata": {},
   "source": [
    "----------------------\n",
    "#### Resultados:\n",
    "\n",
    "O que calculei baseado nos dados? quão bom são eles? O que deu ERRADO? O que deveria ter feito diferente. Documente eventos críticos para provar aderência ao objetivo (ou não)."
   ]
  },
  {
   "cell_type": "code",
   "execution_count": 42,
   "metadata": {},
   "outputs": [],
   "source": [
    "import os\n",
    "os.chdir('/'.join(s_currentpath.split('/')[:-1]))"
   ]
  },
  {
   "cell_type": "code",
   "execution_count": 45,
   "metadata": {},
   "outputs": [
    {
     "name": "stdout",
     "output_type": "stream",
     "text": [
      "/home/uira/anaconda2/lib/python2.7/site-packages/sklearn/cross_validation.py:44: DeprecationWarning: This module was deprecated in version 0.18 in favor of the model_selection module into which all the refactored classes and functions are moved. Also note that the interface of the new CV iterators are different from that of this module. This module will be removed in 0.20.\n",
      "  \"This module will be removed in 0.20.\", DeprecationWarning)\n",
      "/home/uira/anaconda2/lib/python2.7/site-packages/sklearn/grid_search.py:43: DeprecationWarning: This module was deprecated in version 0.18 in favor of the model_selection module into which all the refactored classes and functions are moved. This module will be removed in 0.20.\n",
      "  DeprecationWarning)\n",
      "/home/uira/anaconda2/lib/python2.7/site-packages/sklearn/base.py:315: UserWarning: Trying to unpickle estimator LogisticRegression from version 0.18.1 when using version 0.18.2. This might lead to breaking code or invalid results. Use at your own risk.\n",
      "  UserWarning)\n",
      "/home/uira/anaconda2/lib/python2.7/site-packages/sklearn/base.py:315: UserWarning: Trying to unpickle estimator GridSearchCV from version 0.18.1 when using version 0.18.2. This might lead to breaking code or invalid results. Use at your own risk.\n",
      "  UserWarning)\n",
      "2017-08-29 20:00:24,582;run(): Starting to iterate sessions !\n",
      "2017-08-29 20:00:24,583;Environment.reset(): New Trial will start! ID 1\n",
      "2017-02-01 10:01:22.210000: current position -5.00, PnL: 0.00\n",
      "\n",
      "^C\n",
      ". \n",
      "=============================\n",
      "2017-02-01 10:41:57.971000: PnL -181.65, duration 1.31\n",
      "\n",
      "Last opened positions in ASK DI1F21:\n",
      "    10.68 5\n",
      "\n",
      "OpenPrices:\n",
      "{'price': None, 'spread': None}\n",
      "\n",
      "Positions:\n",
      "    Pos: -5.0 Disclosed: 0.0\n",
      "\n",
      "Best Prices:\n",
      "    Bid: DI1F21 10.69\n",
      "    Ask: DI1F21 10.71\n",
      "\n",
      "DI1F19 book:\n",
      "    qBid    Bid    Ask   qAsk\n",
      "0  1,660  10.37  10.39  2,420\n",
      "1  3,375  10.36  10.40  1,845\n",
      "2  3,070  10.35  10.41  3,480\n",
      "3  8,580  10.34  10.42  4,465\n",
      "4  2,360  10.33  10.43  1,250\n",
      "\n",
      "DI1F21 book:\n",
      "    qBid    Bid    Ask   qAsk\n",
      "0  1,755  10.69  10.70     70\n",
      "1  1,980  10.68  10.71  1,600\n",
      "2  4,300  10.67  10.72  1,475\n",
      "3  1,750  10.66  10.73  2,680\n",
      "4  1,265  10.65  10.74  1,435\n",
      "\n",
      "DI1F23 book:\n",
      "    qBid    Bid    Ask   qAsk\n",
      "0    240  10.96  10.97  1,125\n",
      "1    265  10.95  10.98  1,175\n",
      "2  1,070  10.94  10.99  1,050\n",
      "3    945  10.93  11.00  1,270\n",
      "4    900  10.92  11.01    820\n",
      "\n",
      "DI1F25 book:\n",
      "  qBid    Bid    Ask   qAsk\n",
      "0  360  11.05  11.06    195\n",
      "1  880  11.04  11.07  1,005\n",
      "2  960  11.03  11.08    810\n",
      "3  725  11.02  11.09    960\n",
      "4  795  11.01  11.10    845\n",
      "\n",
      "\n",
      "Should quit this trial (y/n)?"
     ]
    }
   ],
   "source": [
    "!python -m market_sim.run_agent F19F21"
   ]
  },
  {
   "cell_type": "markdown",
   "metadata": {},
   "source": [
    "\n",
    "\n",
    "----------------------\n",
    "#### Conclusão:\n",
    "\n",
    "Experimento atingiu objetivo? quão bem? quais os principais resultados? Interpretação de resultados\n",
    "\n",
    "----------------------\n",
    "#### Notas e próximos passos:\n",
    "\n",
    "O que anotei durante o experimento. Idéias, pistas, e o que fazer em seguida."
   ]
  },
  {
   "cell_type": "markdown",
   "metadata": {},
   "source": [
    "<h3>2.2. Bla3 <small><span style=\"float: right;\">2017, 29 de Agosto</span></small></h3>"
   ]
  },
  {
   "cell_type": "code",
   "execution_count": null,
   "metadata": {
    "collapsed": true
   },
   "outputs": [],
   "source": []
  },
  {
   "cell_type": "markdown",
   "metadata": {},
   "source": [
    "## 3. Conclusão"
   ]
  },
  {
   "cell_type": "markdown",
   "metadata": {},
   "source": [
    "bla bla"
   ]
  }
 ],
 "metadata": {
  "kernelspec": {
   "display_name": "Python [conda root]",
   "language": "python",
   "name": "conda-root-py"
  },
  "language_info": {
   "codemirror_mode": {
    "name": "ipython",
    "version": 2
   },
   "file_extension": ".py",
   "mimetype": "text/x-python",
   "name": "python",
   "nbconvert_exporter": "python",
   "pygments_lexer": "ipython2",
   "version": "2.7.13"
  }
 },
 "nbformat": 4,
 "nbformat_minor": 2
}
